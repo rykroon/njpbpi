{
 "cells": [
  {
   "cell_type": "code",
   "execution_count": 1,
   "id": "3516370f-aafb-49c8-bd90-45f499c0d75a",
   "metadata": {},
   "outputs": [],
   "source": [
    "import csv\n",
    "import json\n",
    "import pathlib\n"
   ]
  },
  {
   "cell_type": "code",
   "execution_count": 2,
   "id": "fe52a334-4186-4659-8d44-4428966cec9d",
   "metadata": {},
   "outputs": [],
   "source": [
    "places_file = pathlib.Path(\"../data/places.json\")\n",
    "raw_data = places_file.read_text()\n",
    "places = json.loads(raw_data)"
   ]
  },
  {
   "cell_type": "code",
   "execution_count": 3,
   "id": "bb4e836a-5a9b-4d5c-8dd2-f94d4f7ddca7",
   "metadata": {},
   "outputs": [],
   "source": [
    "NORTH_JERSEY_COUNTIES = (\n",
    "    \"Bergen County\",\n",
    "    \"Essex County\",\n",
    "    \"Hudson County\",\n",
    "    \"Morris County\",\n",
    "    \"Passaic County\",\n",
    "    \"Sussex County\",\n",
    "    \"Warren County\",\n",
    ")\n",
    "\n",
    "CENTRAL_JERSEY_COUNTIES = (\n",
    "    \"Hunterdon County\",\n",
    "    \"Mercer County\",\n",
    "    \"Middlesex County\",\n",
    "    \"Somerset County\",\n",
    "    \"Union County\",\n",
    ")\n",
    "\n",
    "SOUTH_JERSEY_COUNTIES = (\n",
    "    \"Burlington County\",\n",
    "    \"Camden County\",\n",
    "    \"Cumberland County\",\n",
    "    \"Gloucester County\",\n",
    "    \"Salem County\",\n",
    ")\n",
    "\n",
    "\n",
    "JERSEY_SHORE_COUNTIES = (\n",
    "    \"Atlantic County\",\n",
    "    \"Cape May County\",\n",
    "    \"Monmouth County\",\n",
    "    \"Ocean County\",\n",
    ")"
   ]
  },
  {
   "cell_type": "code",
   "execution_count": 4,
   "id": "da59acdb-a095-47f1-bd17-e22a6f264a20",
   "metadata": {},
   "outputs": [],
   "source": [
    "def county_to_region(county: str) -> str:\n",
    "    if county in NORTH_JERSEY_COUNTIES:\n",
    "        return \"North Jersey\"\n",
    "    elif county in CENTRAL_JERSEY_COUNTIES:\n",
    "        return \"Central Jersey\"\n",
    "    elif county in SOUTH_JERSEY_COUNTIES:\n",
    "        return \"South Jersey\"\n",
    "    elif county in JERSEY_SHORE_COUNTIES:\n",
    "        return \"Jersey Shore\"\n",
    "    else:\n",
    "        raise RuntimeError(f\"could not map county {county} to region.\")\n"
   ]
  },
  {
   "cell_type": "code",
   "execution_count": 5,
   "id": "9b588073-74be-43ff-a779-83cf643f5b8d",
   "metadata": {},
   "outputs": [],
   "source": [
    "def get_addr_component(addr_components, location_type: str):\n",
    "    return next(filter(lambda p: location_type in p.get(\"types\", []), addr_components))"
   ]
  },
  {
   "cell_type": "code",
   "execution_count": 7,
   "id": "f4faf0ed-52ea-47f5-969f-62a3ff8a8c00",
   "metadata": {},
   "outputs": [],
   "source": [
    "flat_places = []\n",
    "for place in places.values():\n",
    "    county = get_addr_component(place[\"addressComponents\"], \"administrative_area_level_2\")[\"longText\"]\n",
    "    record = {\n",
    "        \"display_name\": place[\"displayName\"][\"text\"],\n",
    "        \"primary_type\": place[\"primaryType\"],\n",
    "        \"county\": county,\n",
    "        \"region\": county_to_region(county),\n",
    "        \"website\": place.get(\"websiteUri\", \"\")\n",
    "        \n",
    "    }\n",
    "    flat_places.append(record)"
   ]
  },
  {
   "cell_type": "code",
   "execution_count": 10,
   "id": "a469c6b0-30f6-4ec3-b836-bb2cd223cd18",
   "metadata": {},
   "outputs": [
    {
     "data": {
      "text/plain": [
       "[{'display_name': \"Kinchley's Tavern\",\n",
       "  'primary_type': 'pizza_restaurant',\n",
       "  'county': 'Bergen County',\n",
       "  'region': 'North Jersey',\n",
       "  'website': 'https://www.kinchleyspizza.com/'},\n",
       " {'display_name': 'Mama Rosa Pizza and Pasta',\n",
       "  'primary_type': 'pizza_restaurant',\n",
       "  'county': 'Bergen County',\n",
       "  'region': 'North Jersey',\n",
       "  'website': 'https://www.mamarosapasta.com/'},\n",
       " {'display_name': 'Aquila Pizza Al Forno',\n",
       "  'primary_type': 'pizza_restaurant',\n",
       "  'county': 'Passaic County',\n",
       "  'region': 'North Jersey',\n",
       "  'website': 'http://aquilaforno.com/'},\n",
       " {'display_name': 'Novino Ristorante',\n",
       "  'primary_type': 'italian_restaurant',\n",
       "  'county': 'Bergen County',\n",
       "  'region': 'North Jersey',\n",
       "  'website': 'http://www.novinonj.com/'},\n",
       " {'display_name': 'The Pizza Terminal & Restaurant NJ',\n",
       "  'primary_type': 'pizza_restaurant',\n",
       "  'county': 'Essex County',\n",
       "  'region': 'North Jersey',\n",
       "  'website': 'https://www.thepizzaterminalnj.com/'}]"
      ]
     },
     "execution_count": 10,
     "metadata": {},
     "output_type": "execute_result"
    }
   ],
   "source": [
    "flat_places[:5]"
   ]
  },
  {
   "cell_type": "code",
   "execution_count": 9,
   "id": "e7b7fc52-aa33-406c-a19c-1470c137bc22",
   "metadata": {},
   "outputs": [],
   "source": [
    "output_file = pathlib.Path(\"../data/places.csv\")\n",
    "with output_file.open('w') as f:\n",
    "    writer = csv.DictWriter(f, fieldnames=list(flat_places[0].keys()))\n",
    "    writer.writeheader()\n",
    "    writer.writerows(flat_places)\n"
   ]
  },
  {
   "cell_type": "code",
   "execution_count": null,
   "id": "1af3f127-3050-4ca9-82fe-d58bcd7977c0",
   "metadata": {},
   "outputs": [],
   "source": []
  }
 ],
 "metadata": {
  "kernelspec": {
   "display_name": "Python 3 (ipykernel)",
   "language": "python",
   "name": "python3"
  },
  "language_info": {
   "codemirror_mode": {
    "name": "ipython",
    "version": 3
   },
   "file_extension": ".py",
   "mimetype": "text/x-python",
   "name": "python",
   "nbconvert_exporter": "python",
   "pygments_lexer": "ipython3",
   "version": "3.13.3"
  }
 },
 "nbformat": 4,
 "nbformat_minor": 5
}
