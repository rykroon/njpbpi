{
 "cells": [
  {
   "cell_type": "code",
   "execution_count": 1,
   "id": "c1a14ded-3b7d-4d10-a87e-2393e7897496",
   "metadata": {},
   "outputs": [],
   "source": [
    "import json\n",
    "import pathlib"
   ]
  },
  {
   "cell_type": "code",
   "execution_count": 2,
   "id": "eb44dc6b-ffed-43a7-9de2-a37714f4bb8f",
   "metadata": {},
   "outputs": [],
   "source": [
    "p = pathlib.Path(\"../data/places.json\")\n",
    "PLACES = json.loads(p.read_text())"
   ]
  },
  {
   "cell_type": "code",
   "execution_count": 3,
   "id": "0896741c-5601-4b53-b759-990283ff3b3d",
   "metadata": {},
   "outputs": [],
   "source": [
    "primary_types = {}\n",
    "for place in PLACES.values():\n",
    "    type_ = place[\"primaryType\"]\n",
    "    primary_types.setdefault(type_, []).append(place)"
   ]
  },
  {
   "cell_type": "code",
   "execution_count": 4,
   "id": "4bb299e9-bfad-4a61-ba54-4444c1d78a87",
   "metadata": {},
   "outputs": [
    {
     "name": "stdout",
     "output_type": "stream",
     "text": [
      "pizza_restaurant: 59\n",
      "italian_restaurant: 10\n",
      "meal_takeaway: 1\n",
      "restaurant: 4\n",
      "bar: 1\n",
      "bar_and_grill: 1\n",
      "american_restaurant: 1\n",
      "bagel_shop: 53\n",
      "breakfast_restaurant: 1\n",
      "bakery: 2\n",
      "brunch_restaurant: 1\n"
     ]
    }
   ],
   "source": [
    "# Number of places by primary type.\n",
    "for t, places in primary_types.items():\n",
    "    print(f\"{t}:\", len(places))"
   ]
  },
  {
   "cell_type": "code",
   "execution_count": 5,
   "id": "679644c4-bb4a-4d12-ac4a-7408d637845d",
   "metadata": {},
   "outputs": [],
   "source": [
    "types = {}\n",
    "for place in PLACES.values():\n",
    "    all_types = place[\"types\"]\n",
    "    if \"pizza_restaurant\" in all_types:\n",
    "        types.setdefault(\"pizza_restaurant\", []).append(place)\n",
    "    elif \"bagel_shop\" in all_types:\n",
    "        types.setdefault(\"bagel_shop\", []).append(place)\n",
    "    else:\n",
    "        types.setdefault(\"neither\", []).append(place)\n",
    "        \n",
    "    "
   ]
  },
  {
   "cell_type": "code",
   "execution_count": 6,
   "id": "e42a0e6e-1cbe-48e5-a13e-91af62b5ba9a",
   "metadata": {},
   "outputs": [
    {
     "name": "stdout",
     "output_type": "stream",
     "text": [
      "pizza_restaurant: 69\n",
      "neither: 10\n",
      "bagel_shop: 55\n"
     ]
    }
   ],
   "source": [
    "# Number of places by types.\n",
    "for t, places in types.items():\n",
    "    print(f\"{t}:\", len(places))\n",
    "    "
   ]
  },
  {
   "cell_type": "code",
   "execution_count": 7,
   "id": "9f29a445-ad33-4e73-b240-677c82a91296",
   "metadata": {},
   "outputs": [
    {
     "data": {
      "text/plain": [
       "['Novino Ristorante',\n",
       " \"Nicolosi's Pizza\",\n",
       " 'Reservoir Tavern',\n",
       " \"Uncle Louie's\",\n",
       " 'Capital Craft',\n",
       " 'Black Cat Bar & Grill',\n",
       " \"Carluccio's Coal Fired Pizza\",\n",
       " \"Eric's Restaurant\",\n",
       " 'Lincoln Park Hot Bagels',\n",
       " 'Plaza Bagels & Deli']"
      ]
     },
     "execution_count": 7,
     "metadata": {},
     "output_type": "execute_result"
    }
   ],
   "source": [
    "[p[\"displayName\"][\"text\"] for p in types[\"neither\"]]"
   ]
  },
  {
   "cell_type": "code",
   "execution_count": 8,
   "id": "f0bf10d4-8fb0-4540-9e7c-2debad2c377a",
   "metadata": {},
   "outputs": [],
   "source": [
    "def get_location_type_from_addr_components(addr_components, location_type):\n",
    "    return list(filter(lambda comp: location_type in comp.get(\"types\", []), addr_components))[0][\"longText\"]"
   ]
  },
  {
   "cell_type": "code",
   "execution_count": 9,
   "id": "6d7397d2-a3f9-45da-b781-c95dd5dca01f",
   "metadata": {},
   "outputs": [],
   "source": [
    "counties = {}\n",
    "for place in PLACES.values():\n",
    "    county = get_location_type_from_addr_components(place[\"addressComponents\"], \"administrative_area_level_2\")\n",
    "    counties.setdefault(county, []).append(place)"
   ]
  },
  {
   "cell_type": "code",
   "execution_count": 10,
   "id": "4af7e826-e95a-4204-ba7c-54bb07ac78fe",
   "metadata": {},
   "outputs": [
    {
     "name": "stdout",
     "output_type": "stream",
     "text": [
      "Bergen County: 16\n",
      "Passaic County: 4\n",
      "Essex County: 13\n",
      "Morris County: 11\n",
      "Sussex County: 2\n",
      "Warren County: 2\n",
      "Hudson County: 4\n",
      "Middlesex County: 8\n",
      "Union County: 11\n",
      "Somerset County: 8\n",
      "Mercer County: 4\n",
      "Atlantic County: 4\n",
      "Monmouth County: 12\n",
      "Ocean County: 9\n",
      "Cape May County: 2\n",
      "Camden County: 8\n",
      "Gloucester County: 5\n",
      "Cumberland County: 2\n",
      "Salem County: 1\n",
      "Burlington County: 7\n",
      "Hunterdon County: 1\n"
     ]
    }
   ],
   "source": [
    "# Number of places by County.\n",
    "for county, places in counties.items():\n",
    "    print(f\"{county}:\", len(places))"
   ]
  },
  {
   "cell_type": "code",
   "execution_count": 19,
   "id": "63686584-83f8-48ee-9d74-4b2972825c34",
   "metadata": {},
   "outputs": [],
   "source": [
    "NORTH_JERSEY_COUNTIES = (\n",
    "    \"Bergen County\",\n",
    "    \"Essex County\",\n",
    "    \"Hudson County\",\n",
    "    \"Morris County\",\n",
    "    \"Passaic County\",\n",
    "    \"Sussex County\",\n",
    "    \"Warren County\",\n",
    ")\n",
    "\n",
    "CENTRAL_JERSEY_COUNTIES = (\n",
    "    \"Hunterdon County\",\n",
    "    \"Mercer County\",\n",
    "    \"Middlesex County\",\n",
    "    \"Somerset County\",\n",
    "    \"Union County\",\n",
    ")\n",
    "\n",
    "SOUTH_JERSEY_COUNTIES = (\n",
    "    \"Burlington County\",\n",
    "    \"Camden County\",\n",
    "    \"Cumberland County\",\n",
    "    \"Gloucester County\",\n",
    "    \"Salem County\",\n",
    ")\n",
    "\n",
    "\n",
    "JERSEY_SHORE_COUNTIES = (\n",
    "    \"Atlantic County\",\n",
    "    \"Cape May County\",\n",
    "    \"Monmouth County\",\n",
    "    \"Ocean County\",\n",
    ")"
   ]
  },
  {
   "cell_type": "code",
   "execution_count": 20,
   "id": "aeb3f9d8-e9cf-4ee2-a31c-b2cad20b3d57",
   "metadata": {},
   "outputs": [],
   "source": [
    "regions = {}\n",
    "for county, places in counties.items():\n",
    "    region = \"\"\n",
    "    if county in NORTH_JERSEY_COUNTIES:\n",
    "        region = \"North Jersey\"\n",
    "    elif county in JERSEY_SHORE_COUNTIES:\n",
    "        region = \"shore\"\n",
    "    elif county in CENTRAL_JERSEY_COUNTIES:\n",
    "        region = \"Central Jersey\"\n",
    "    elif county in SOUTH_JERSEY_COUNTIES:\n",
    "        region = \"South Jersey\"\n",
    "    else:\n",
    "        raise Exception(\"Could not find region for county\", county)\n",
    "\n",
    "    regions.setdefault(region, []).extend(places)\n",
    "        "
   ]
  },
  {
   "cell_type": "code",
   "execution_count": 21,
   "id": "8e0aa942-605a-44ec-8a7a-0c499fdc22a9",
   "metadata": {},
   "outputs": [
    {
     "name": "stdout",
     "output_type": "stream",
     "text": [
      "North Jersey: 52\n",
      "Central Jersey: 32\n",
      "shore: 27\n",
      "South Jersey: 23\n"
     ]
    }
   ],
   "source": [
    "# Number of places by Region.\n",
    "for region, places in regions.items():\n",
    "    print(f\"{region}:\", len(places))"
   ]
  },
  {
   "cell_type": "code",
   "execution_count": null,
   "id": "a19d9979-a61c-4f30-a8b7-ad30f8ca37d5",
   "metadata": {},
   "outputs": [],
   "source": []
  }
 ],
 "metadata": {
  "kernelspec": {
   "display_name": "Python 3 (ipykernel)",
   "language": "python",
   "name": "python3"
  },
  "language_info": {
   "codemirror_mode": {
    "name": "ipython",
    "version": 3
   },
   "file_extension": ".py",
   "mimetype": "text/x-python",
   "name": "python",
   "nbconvert_exporter": "python",
   "pygments_lexer": "ipython3",
   "version": "3.13.3"
  }
 },
 "nbformat": 4,
 "nbformat_minor": 5
}
